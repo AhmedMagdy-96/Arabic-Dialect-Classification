{
 "cells": [
  {
   "cell_type": "code",
   "execution_count": 1,
   "id": "333d0532",
   "metadata": {},
   "outputs": [],
   "source": [
    "from flask import Flask,render_template,request\n",
    "import requests\n",
    "import pickle\n",
    "import Data_Preprocessing as dp\n",
    "from tensorflow.keras.models import load_model\n",
    "from keras.preprocessing.sequence import pad_sequences\n",
    "import numpy as np\n",
    "from transformers import pipeline"
   ]
  },
  {
   "cell_type": "code",
   "execution_count": 2,
   "id": "f7a84589",
   "metadata": {},
   "outputs": [],
   "source": [
    "svm_model = pickle.load(open('linearsvcmodel.pkl', 'rb'))\n",
    "lstm_model = load_model('lstm_model.h5')\n",
    "tok = pickle.load(open('tokenizer.pkl', 'rb'))\n",
    "bert_model = pipeline(\"text-classification\", model=\"output_dir\")"
   ]
  },
  {
   "cell_type": "code",
   "execution_count": 3,
   "id": "8a8c080f",
   "metadata": {},
   "outputs": [],
   "source": [
    "mapping={'AE': 16,'BH': 17,'DZ': 10,'EG': 11,'IQ': 0,'JO': 6,'KW': 13,'LB': 12,'LY': 1,'MA': 7,'OM': 14,'PL': 3,\n",
    "         'QA': 2,'SA': 8,'SD': 15,'SY': 4,'TN': 5,'YE': 9}"
   ]
  },
  {
   "cell_type": "code",
   "execution_count": 4,
   "id": "cf5d9b9a",
   "metadata": {},
   "outputs": [
    {
     "name": "stdout",
     "output_type": "stream",
     "text": [
      " * Serving Flask app '__main__' (lazy loading)\n",
      " * Environment: production\n",
      "\u001b[31m   WARNING: This is a development server. Do not use it in a production deployment.\u001b[0m\n",
      "\u001b[2m   Use a production WSGI server instead.\u001b[0m\n",
      " * Debug mode: off\n"
     ]
    },
    {
     "name": "stderr",
     "output_type": "stream",
     "text": [
      " * Running on http://127.0.0.1:5000/ (Press CTRL+C to quit)\n",
      "127.0.0.1 - - [14/Mar/2022 20:59:20] \"GET / HTTP/1.1\" 200 -\n",
      "127.0.0.1 - - [14/Mar/2022 20:59:22] \"GET /static/pred_style.css HTTP/1.1\" 304 -\n",
      "127.0.0.1 - - [14/Mar/2022 20:59:23] \"GET /favicon.ico HTTP/1.1\" 404 -\n",
      "127.0.0.1 - - [14/Mar/2022 21:00:31] \"POST /prediction HTTP/1.1\" 200 -\n",
      "127.0.0.1 - - [14/Mar/2022 21:00:31] \"GET /static/pred_style.css HTTP/1.1\" 304 -\n",
      "127.0.0.1 - - [14/Mar/2022 21:01:09] \"POST /prediction HTTP/1.1\" 200 -\n",
      "127.0.0.1 - - [14/Mar/2022 21:01:09] \"GET /static/pred_style.css HTTP/1.1\" 304 -\n"
     ]
    }
   ],
   "source": [
    "app = Flask(__name__)\n",
    "@app.route('/', methods=['GET', 'POST'])\n",
    "def home():\n",
    "    return render_template('prediction.html')\n",
    "@app.route('/prediction', methods=['GET','POST'])\n",
    "def predict():\n",
    "    text=request.form['text']\n",
    "    text=dp.preprocesss(text)\n",
    "\n",
    "    svm_pred = svm_model.predict([text])\n",
    "\n",
    "    encoded = tok.texts_to_sequences([text])\n",
    "    padded = pad_sequences(encoded,maxlen=280, padding='post')\n",
    "    lstm_pred = np.argmax(lstm_model.predict(padded))\n",
    "    lstm_pred = [k for k, v in mapping.items() if v == lstm_pred]\n",
    "    bert_pred = bert_model(text)\n",
    "    return render_template('prediction.html', prediction_string = 'Predictions :',\n",
    "                           svm = 'SVM prediction : {}'.format(svm_pred[0]),\n",
    "                           lstm = 'LSTM prediction : {}'.format(lstm_pred[0]),\n",
    "                           arabert = 'Arabert prediction : {}'.format(bert_pred[0]['label']))\n",
    "    \n",
    "app.run()"
   ]
  },
  {
   "cell_type": "code",
   "execution_count": null,
   "id": "1a776e85",
   "metadata": {},
   "outputs": [],
   "source": []
  }
 ],
 "metadata": {
  "kernelspec": {
   "display_name": "Python 3 (ipykernel)",
   "language": "python",
   "name": "python3"
  },
  "language_info": {
   "codemirror_mode": {
    "name": "ipython",
    "version": 3
   },
   "file_extension": ".py",
   "mimetype": "text/x-python",
   "name": "python",
   "nbconvert_exporter": "python",
   "pygments_lexer": "ipython3",
   "version": "3.8.3"
  }
 },
 "nbformat": 4,
 "nbformat_minor": 5
}
