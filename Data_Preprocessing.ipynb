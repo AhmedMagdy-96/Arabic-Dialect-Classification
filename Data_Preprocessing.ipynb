{
 "cells": [
  {
   "cell_type": "code",
   "execution_count": 9,
   "id": "547a079d",
   "metadata": {},
   "outputs": [],
   "source": [
    "import pandas as pd\n",
    "import numpy as np\n",
    "import regex as re\n",
    "from nltk.corpus import stopwords"
   ]
  },
  {
   "cell_type": "code",
   "execution_count": 2,
   "id": "5fd364f5",
   "metadata": {},
   "outputs": [],
   "source": [
    "def normalization(text):\n",
    "    text = re.sub(\"[إأآا]\", \"ا\", text)\n",
    "    text = re.sub(\"ى\", \"ي\", text)\n",
    "    text = re.sub(\"ة\", \"ه\", text)\n",
    "    return text"
   ]
  },
  {
   "cell_type": "code",
   "execution_count": 8,
   "id": "d1b1b39d",
   "metadata": {},
   "outputs": [],
   "source": [
    "def hashtag(text):\n",
    "    word_list = []\n",
    "    for word in text.split():\n",
    "        if word[0] == '#':\n",
    "            word = word[1:]\n",
    "            word = word.split('_')\n",
    "            word = ' '.join(word)\n",
    "        word_list.append(word)\n",
    "    return ' '.join(word_list)"
   ]
  },
  {
   "cell_type": "code",
   "execution_count": 4,
   "id": "e5f623c6",
   "metadata": {},
   "outputs": [],
   "source": [
    "def stop_words_removal(text):\n",
    "    word_list=[]\n",
    "    stopwords_list = stopwords.words('arabic')\n",
    "    stopwords_list=[i for i in stopwords_list if i not in ['لك','ها','ما','لأ','هلا','إذا','إذن','أقل','إلى','إما','آه']]\n",
    "    for word in text.split():\n",
    "        if word not in stopwords_list:\n",
    "            word_list.append(word)\n",
    "    return ' '.join(word_list)"
   ]
  },
  {
   "cell_type": "code",
   "execution_count": 5,
   "id": "6b2d41c0",
   "metadata": {},
   "outputs": [],
   "source": [
    "def remove_emoji(text):\n",
    "    emoji_pattern = re.compile(\"[\"\n",
    "                               u\"\\U0001F600-\\U0001F64F\"  # emoticons\n",
    "                               u\"\\U0001F300-\\U0001F5FF\"  # symbols & pictographs\n",
    "                               u\"\\U0001F680-\\U0001F6FF\"  # transport & map symbols\n",
    "                               u\"\\U0001F1E0-\\U0001F1FF\"  # flags (iOS)\n",
    "                               u\"\\U00002500-\\U00002BEF\"  # chinese char\n",
    "                               u\"\\U00002702-\\U000027B0\"\n",
    "                               u\"\\U00002702-\\U000027B0\"\n",
    "                               u\"\\U000024C2-\\U0001F251\"\n",
    "                               u\"\\U0001f926-\\U0001f937\"\n",
    "                               u\"\\U00010000-\\U0010ffff\"\n",
    "                               u\"\\u2640-\\u2642\"\n",
    "                               u\"\\u2600-\\u2B55\"\n",
    "                               u\"\\u200d\"\n",
    "                               u\"\\u23cf\"\n",
    "                               u\"\\u23e9\"\n",
    "                               u\"\\u231a\"\n",
    "                               u\"\\ufe0f\"  # dingbats\n",
    "                               u\"\\u3030\"\n",
    "                               \"]+\", flags=re.UNICODE)\n",
    "    return emoji_pattern.sub(r'', text)"
   ]
  },
  {
   "cell_type": "code",
   "execution_count": 10,
   "id": "800b9722",
   "metadata": {},
   "outputs": [],
   "source": [
    "def preprocesss(text):\n",
    "    text = stop_words_removal(text)\n",
    "    text = re.sub('@[^\\s]+', ' ',text) #remove username\n",
    "    text = re.sub('((www\\.[^\\s]+)|(https?:\\/\\/[^\\s]+))',' ',text) #remove websites\n",
    "    text = normalization(text)\n",
    "    text = re.sub(r'(.)\\1+', r'\\1', text) #remove elongation\n",
    "    text = re.sub(\"\\d+\", \" \", text) #remove digits\n",
    "    text = hashtag(text)\n",
    "    trans = str.maketrans('','','''`÷×؛<>_()*&^%][ـ،/:\"؟.,'{}~¦+|!”…“–ـ''') #punctuation\n",
    "    text = text.translate(trans)\n",
    "    text = remove_emoji(text)\n",
    "    text = re.sub('[A-Za-z]+',' ',text) #remove english characters\n",
    "    \n",
    "    return text"
   ]
  }
 ],
 "metadata": {
  "kernelspec": {
   "display_name": "Python 3 (ipykernel)",
   "language": "python",
   "name": "python3"
  },
  "language_info": {
   "codemirror_mode": {
    "name": "ipython",
    "version": 3
   },
   "file_extension": ".py",
   "mimetype": "text/x-python",
   "name": "python",
   "nbconvert_exporter": "python",
   "pygments_lexer": "ipython3",
   "version": "3.8.3"
  }
 },
 "nbformat": 4,
 "nbformat_minor": 5
}
