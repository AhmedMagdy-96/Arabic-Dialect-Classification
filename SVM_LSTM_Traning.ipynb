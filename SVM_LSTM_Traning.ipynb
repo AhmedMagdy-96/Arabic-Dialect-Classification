{
 "cells": [
  {
   "cell_type": "markdown",
   "id": "ad248e8a",
   "metadata": {},
   "source": [
    "# Importing Libraries"
   ]
  },
  {
   "cell_type": "code",
   "execution_count": 1,
   "id": "fdacdd91",
   "metadata": {},
   "outputs": [],
   "source": [
    "import warnings\n",
    "warnings.filterwarnings('ignore')"
   ]
  },
  {
   "cell_type": "code",
   "execution_count": 58,
   "id": "9ea56d0d",
   "metadata": {},
   "outputs": [],
   "source": [
    "import pandas as pd\n",
    "import numpy as np\n",
    "import matplotlib.pyplot as plt\n",
    "import seaborn as sns\n",
    "%matplotlib inline\n",
    "plt.style.use('bmh')\n",
    "from sklearn.model_selection import train_test_split\n",
    "pd.set_option('display.max_colwidth', 100000)\n",
    "import Data_Preprocessing as dp\n",
    "import pickle\n",
    "from sklearn.feature_extraction.text import TfidfVectorizer\n",
    "from sklearn.pipeline import Pipeline\n",
    "from sklearn.model_selection import cross_val_score\n",
    "from sklearn.metrics import classification_report\n",
    "from sklearn.svm import LinearSVC\n",
    "import tensorflow as tf\n",
    "from keras.preprocessing.text import Tokenizer\n",
    "from keras.preprocessing.sequence import pad_sequences\n",
    "import gensim\n",
    "from gensim.models import KeyedVectors\n",
    "from gensim.models import word2vec\n",
    "from tensorflow.keras.models import load_model"
   ]
  },
  {
   "cell_type": "code",
   "execution_count": 19,
   "id": "3e891580",
   "metadata": {},
   "outputs": [],
   "source": [
    "df=pd.read_csv('all_data.csv')"
   ]
  },
  {
   "cell_type": "code",
   "execution_count": 3,
   "id": "f70449fe",
   "metadata": {},
   "outputs": [
    {
     "data": {
      "text/plain": [
       "(458197, 3)"
      ]
     },
     "execution_count": 3,
     "metadata": {},
     "output_type": "execute_result"
    }
   ],
   "source": [
    "df.shape"
   ]
  },
  {
   "cell_type": "code",
   "execution_count": 4,
   "id": "1fce48eb",
   "metadata": {},
   "outputs": [
    {
     "name": "stdout",
     "output_type": "stream",
     "text": [
      "<class 'pandas.core.frame.DataFrame'>\n",
      "RangeIndex: 458197 entries, 0 to 458196\n",
      "Data columns (total 3 columns):\n",
      " #   Column   Non-Null Count   Dtype \n",
      "---  ------   --------------   ----- \n",
      " 0   id       458197 non-null  int64 \n",
      " 1   dialect  458197 non-null  object\n",
      " 2   text     458197 non-null  object\n",
      "dtypes: int64(1), object(2)\n",
      "memory usage: 10.5+ MB\n"
     ]
    }
   ],
   "source": [
    "df.info()"
   ]
  },
  {
   "cell_type": "code",
   "execution_count": 5,
   "id": "dd4e4328",
   "metadata": {},
   "outputs": [
    {
     "data": {
      "text/plain": [
       "array(['IQ', 'LY', 'QA', 'PL', 'SY', 'TN', 'JO', 'MA', 'SA', 'YE', 'DZ',\n",
       "       'EG', 'LB', 'KW', 'OM', 'SD', 'AE', 'BH'], dtype=object)"
      ]
     },
     "execution_count": 5,
     "metadata": {},
     "output_type": "execute_result"
    }
   ],
   "source": [
    "df['dialect'].unique()"
   ]
  },
  {
   "cell_type": "code",
   "execution_count": 6,
   "id": "9a5a6cf8",
   "metadata": {},
   "outputs": [
    {
     "data": {
      "text/plain": [
       "EG    57636\n",
       "PL    43742\n",
       "KW    42109\n",
       "LY    36499\n",
       "QA    31069\n",
       "JO    27921\n",
       "LB    27617\n",
       "SA    26832\n",
       "AE    26296\n",
       "BH    26292\n",
       "OM    19116\n",
       "SY    16242\n",
       "DZ    16183\n",
       "IQ    15497\n",
       "SD    14434\n",
       "MA    11539\n",
       "YE     9927\n",
       "TN     9246\n",
       "Name: dialect, dtype: int64"
      ]
     },
     "execution_count": 6,
     "metadata": {},
     "output_type": "execute_result"
    }
   ],
   "source": [
    "df['dialect'].value_counts()"
   ]
  },
  {
   "cell_type": "markdown",
   "id": "43d0d648",
   "metadata": {},
   "source": [
    "This dataset is imbalanced"
   ]
  },
  {
   "cell_type": "code",
   "execution_count": 7,
   "id": "72c3dcc0",
   "metadata": {},
   "outputs": [
    {
     "data": {
      "text/plain": [
       "<seaborn.axisgrid.FacetGrid at 0x151141f7a90>"
      ]
     },
     "execution_count": 7,
     "metadata": {},
     "output_type": "execute_result"
    },
    {
     "data": {
      "image/png": "[encoded data removed]",
      "text/plain": [
       "<Figure size 360x360 with 1 Axes>"
      ]
     },
     "metadata": {
      "needs_background": "light"
     },
     "output_type": "display_data"
    }
   ],
   "source": [
    "sns.catplot(x='dialect',kind='count',data=df)"
   ]
  },
  {
   "cell_type": "code",
   "execution_count": 8,
   "id": "547cdd40",
   "metadata": {},
   "outputs": [
    {
     "data": {
      "text/html": [
       "<div>\n",
       "<style scoped>\n",
       "    .dataframe tbody tr th:only-of-type {\n",
       "        vertical-align: middle;\n",
       "    }\n",
       "\n",
       "    .dataframe tbody tr th {\n",
       "        vertical-align: top;\n",
       "    }\n",
       "\n",
       "    .dataframe thead th {\n",
       "        text-align: right;\n",
       "    }\n",
       "</style>\n",
       "<table border=\"1\" class=\"dataframe\">\n",
       "  <thead>\n",
       "    <tr style=\"text-align: right;\">\n",
       "      <th></th>\n",
       "      <th>label</th>\n",
       "      <th>text</th>\n",
       "    </tr>\n",
       "  </thead>\n",
       "  <tbody>\n",
       "    <tr>\n",
       "      <th>0</th>\n",
       "      <td>IQ</td>\n",
       "      <td>@Nw8ieJUwaCAAreT لكن بالنهاية .. ينتفض .. يغير .</td>\n",
       "    </tr>\n",
       "    <tr>\n",
       "      <th>1</th>\n",
       "      <td>IQ</td>\n",
       "      <td>@7zNqXP0yrODdRjK يعني هذا محسوب على البشر .. حيونه ووحشيه .. وتطلبون من الغرب يحترمكم ويؤمن بدينكم ولاينعتكم بالإرهاب ..</td>\n",
       "    </tr>\n",
       "    <tr>\n",
       "      <th>2</th>\n",
       "      <td>IQ</td>\n",
       "      <td>@KanaanRema مبين من كلامه خليجي</td>\n",
       "    </tr>\n",
       "    <tr>\n",
       "      <th>3</th>\n",
       "      <td>IQ</td>\n",
       "      <td>@HAIDER76128900 يسلملي مرورك وروحك الحلوه💐</td>\n",
       "    </tr>\n",
       "    <tr>\n",
       "      <th>4</th>\n",
       "      <td>IQ</td>\n",
       "      <td>@hmo2406 وين هل الغيبه  اخ محمد 🌸🌺</td>\n",
       "    </tr>\n",
       "    <tr>\n",
       "      <th>...</th>\n",
       "      <td>...</td>\n",
       "      <td>...</td>\n",
       "    </tr>\n",
       "    <tr>\n",
       "      <th>458192</th>\n",
       "      <td>BH</td>\n",
       "      <td>@Al_mhbaa_7 مبسوطين منك اللي باسطانا😅</td>\n",
       "    </tr>\n",
       "    <tr>\n",
       "      <th>458193</th>\n",
       "      <td>BH</td>\n",
       "      <td>@Zzainabali @P_ameerah والله ماينده ابش يختي</td>\n",
       "    </tr>\n",
       "    <tr>\n",
       "      <th>458194</th>\n",
       "      <td>BH</td>\n",
       "      <td>@Al_mhbaa_7 شو عملنا لك حنا تهربي مننا احنا مساكين ليش بتعملي هيك فينا 😔😔</td>\n",
       "    </tr>\n",
       "    <tr>\n",
       "      <th>458195</th>\n",
       "      <td>BH</td>\n",
       "      <td>@haneenalmwla الله يبارك فيها وبالعافيه 😋😋😋</td>\n",
       "    </tr>\n",
       "    <tr>\n",
       "      <th>458196</th>\n",
       "      <td>BH</td>\n",
       "      <td>@jolnar121 السحله ضيفي ي بتطلع لك سحليه😅😅</td>\n",
       "    </tr>\n",
       "  </tbody>\n",
       "</table>\n",
       "<p>458197 rows × 2 columns</p>\n",
       "</div>"
      ],
      "text/plain": [
       "       label  \\\n",
       "0         IQ   \n",
       "1         IQ   \n",
       "2         IQ   \n",
       "3         IQ   \n",
       "4         IQ   \n",
       "...      ...   \n",
       "458192    BH   \n",
       "458193    BH   \n",
       "458194    BH   \n",
       "458195    BH   \n",
       "458196    BH   \n",
       "\n",
       "                                                                                                                            text  \n",
       "0                                                                               @Nw8ieJUwaCAAreT لكن بالنهاية .. ينتفض .. يغير .  \n",
       "1       @7zNqXP0yrODdRjK يعني هذا محسوب على البشر .. حيونه ووحشيه .. وتطلبون من الغرب يحترمكم ويؤمن بدينكم ولاينعتكم بالإرهاب ..  \n",
       "2                                                                                                @KanaanRema مبين من كلامه خليجي  \n",
       "3                                                                                     @HAIDER76128900 يسلملي مرورك وروحك الحلوه💐  \n",
       "4                                                                                             @hmo2406 وين هل الغيبه  اخ محمد 🌸🌺  \n",
       "...                                                                                                                          ...  \n",
       "458192                                                                                     @Al_mhbaa_7 مبسوطين منك اللي باسطانا😅  \n",
       "458193                                                                              @Zzainabali @P_ameerah والله ماينده ابش يختي  \n",
       "458194                                                 @Al_mhbaa_7 شو عملنا لك حنا تهربي مننا احنا مساكين ليش بتعملي هيك فينا 😔😔  \n",
       "458195                                                                               @haneenalmwla الله يبارك فيها وبالعافيه 😋😋😋  \n",
       "458196                                                                                 @jolnar121 السحله ضيفي ي بتطلع لك سحليه😅😅  \n",
       "\n",
       "[458197 rows x 2 columns]"
      ]
     },
     "execution_count": 8,
     "metadata": {},
     "output_type": "execute_result"
    }
   ],
   "source": [
    "df=df.rename(columns={'dialect':'label'})\n",
    "df.drop(['id'],inplace=True,axis=1)\n",
    "df"
   ]
  },
  {
   "cell_type": "code",
   "execution_count": 20,
   "id": "76406aab",
   "metadata": {},
   "outputs": [
    {
     "name": "stdout",
     "output_type": "stream",
     "text": [
      "Number of words in the dataset before preprocessing =  895950\n"
     ]
    }
   ],
   "source": [
    "results = set()\n",
    "df['text'].str.lower().str.split().apply(results.update)\n",
    "print('Number of words in the dataset before preprocessing = ',len(results))"
   ]
  },
  {
   "cell_type": "code",
   "execution_count": 24,
   "id": "dcd8444e",
   "metadata": {},
   "outputs": [
    {
     "name": "stdout",
     "output_type": "stream",
     "text": [
      "['https://t.co/l6dtgirayd', 'أعوامي', 'http://t.co/3kclpjaoto', 'اتمسكو', 'بنغاليه', 'بجيبتي', '@donahmed993', 'لقياگ', 'ويخلوني', 'ماقدر😂😂😂😂', 'للرائع', 'ومقويهم', '،يحارب', 'ومابدك', '@wadreen', 'ياعبدالرحيم.', '@pandasdn', 'متفيجه', 'https://t.co/auivl6jbzp', '@mmo1o2_']\n"
     ]
    }
   ],
   "source": [
    "print(list(results)[:20])"
   ]
  },
  {
   "cell_type": "code",
   "execution_count": 11,
   "id": "911fc874",
   "metadata": {},
   "outputs": [],
   "source": [
    "# df['text']=df['text'].apply(lambda x: dp.preprocesss(x))\n",
    "# df"
   ]
  },
  {
   "cell_type": "code",
   "execution_count": 12,
   "id": "c86ffef1",
   "metadata": {},
   "outputs": [],
   "source": [
    "# df.to_csv('preprocessed_df_2.csv',index=False)"
   ]
  },
  {
   "cell_type": "code",
   "execution_count": 25,
   "id": "a8760107",
   "metadata": {},
   "outputs": [
    {
     "data": {
      "text/html": [
       "<div>\n",
       "<style scoped>\n",
       "    .dataframe tbody tr th:only-of-type {\n",
       "        vertical-align: middle;\n",
       "    }\n",
       "\n",
       "    .dataframe tbody tr th {\n",
       "        vertical-align: top;\n",
       "    }\n",
       "\n",
       "    .dataframe thead th {\n",
       "        text-align: right;\n",
       "    }\n",
       "</style>\n",
       "<table border=\"1\" class=\"dataframe\">\n",
       "  <thead>\n",
       "    <tr style=\"text-align: right;\">\n",
       "      <th></th>\n",
       "      <th>label</th>\n",
       "      <th>text</th>\n",
       "    </tr>\n",
       "  </thead>\n",
       "  <tbody>\n",
       "    <tr>\n",
       "      <th>0</th>\n",
       "      <td>IQ</td>\n",
       "      <td>بالنهايه  ينتفض  يغير</td>\n",
       "    </tr>\n",
       "    <tr>\n",
       "      <th>1</th>\n",
       "      <td>IQ</td>\n",
       "      <td>يعني محسوب البشر  حيونه وحشيه  وتطلبون الغرب يحترمكم ويؤمن بدينكم ولاينعتكم بالارهاب</td>\n",
       "    </tr>\n",
       "    <tr>\n",
       "      <th>2</th>\n",
       "      <td>IQ</td>\n",
       "      <td>مبين كلامه خليجي</td>\n",
       "    </tr>\n",
       "    <tr>\n",
       "      <th>3</th>\n",
       "      <td>IQ</td>\n",
       "      <td>يسلملي مرورك وروحك الحلوه</td>\n",
       "    </tr>\n",
       "    <tr>\n",
       "      <th>4</th>\n",
       "      <td>IQ</td>\n",
       "      <td>وين الغيبه اخ محمد</td>\n",
       "    </tr>\n",
       "    <tr>\n",
       "      <th>...</th>\n",
       "      <td>...</td>\n",
       "      <td>...</td>\n",
       "    </tr>\n",
       "    <tr>\n",
       "      <th>458192</th>\n",
       "      <td>BH</td>\n",
       "      <td>مبسوطين منك الي باسطانا</td>\n",
       "    </tr>\n",
       "    <tr>\n",
       "      <th>458193</th>\n",
       "      <td>BH</td>\n",
       "      <td>واله ماينده ابش يختي</td>\n",
       "    </tr>\n",
       "    <tr>\n",
       "      <th>458194</th>\n",
       "      <td>BH</td>\n",
       "      <td>شو عملنا لك حنا تهربي منا احنا مساكين ليش بتعملي هيك فينا</td>\n",
       "    </tr>\n",
       "    <tr>\n",
       "      <th>458195</th>\n",
       "      <td>BH</td>\n",
       "      <td>اله يبارك وبالعافيه</td>\n",
       "    </tr>\n",
       "    <tr>\n",
       "      <th>458196</th>\n",
       "      <td>BH</td>\n",
       "      <td>السحله ضيفي ي بتطلع لك سحليه</td>\n",
       "    </tr>\n",
       "  </tbody>\n",
       "</table>\n",
       "<p>458197 rows × 2 columns</p>\n",
       "</div>"
      ],
      "text/plain": [
       "       label  \\\n",
       "0         IQ   \n",
       "1         IQ   \n",
       "2         IQ   \n",
       "3         IQ   \n",
       "4         IQ   \n",
       "...      ...   \n",
       "458192    BH   \n",
       "458193    BH   \n",
       "458194    BH   \n",
       "458195    BH   \n",
       "458196    BH   \n",
       "\n",
       "                                                                                         text  \n",
       "0                                                                      بالنهايه  ينتفض  يغير   \n",
       "1       يعني محسوب البشر  حيونه وحشيه  وتطلبون الغرب يحترمكم ويؤمن بدينكم ولاينعتكم بالارهاب   \n",
       "2                                                                            مبين كلامه خليجي  \n",
       "3                                                                   يسلملي مرورك وروحك الحلوه  \n",
       "4                                                                         وين الغيبه اخ محمد   \n",
       "...                                                                                       ...  \n",
       "458192                                                                مبسوطين منك الي باسطانا  \n",
       "458193                                                                   واله ماينده ابش يختي  \n",
       "458194                             شو عملنا لك حنا تهربي منا احنا مساكين ليش بتعملي هيك فينا   \n",
       "458195                                                                   اله يبارك وبالعافيه   \n",
       "458196                                                           السحله ضيفي ي بتطلع لك سحليه  \n",
       "\n",
       "[458197 rows x 2 columns]"
      ]
     },
     "execution_count": 25,
     "metadata": {},
     "output_type": "execute_result"
    }
   ],
   "source": [
    "df=pd.read_csv('preprocessed_df_2.csv')\n",
    "df"
   ]
  },
  {
   "cell_type": "code",
   "execution_count": 26,
   "id": "6cbee567",
   "metadata": {},
   "outputs": [
    {
     "name": "stdout",
     "output_type": "stream",
     "text": [
      "Number of words in the dataset after preprocessing =  432726\n"
     ]
    }
   ],
   "source": [
    "results = set()\n",
    "df['text'].str.lower().str.split().apply(results.update)\n",
    "print('Number of words in the dataset after preprocessing = ',len(results))"
   ]
  },
  {
   "cell_type": "code",
   "execution_count": 30,
   "id": "ba20f856",
   "metadata": {},
   "outputs": [
    {
     "name": "stdout",
     "output_type": "stream",
     "text": [
      "['لانقضاض', 'اتمسكو', 'لاتكروا', 'بنغاليه', 'بجيبتي', 'وتزبلها', 'لقياگ', 'ويخلوني', 'لتصيف', 'حيجني', 'ومتطاول', 'ومقويهم', 'ومابدك', 'وذنينا', 'متفيجه', 'وتسمعين', 'فمصيره', 'سكّرنا', 'خرابيشه', 'فلاتشوهين']\n"
     ]
    }
   ],
   "source": [
    "print(list(results)[:20])"
   ]
  },
  {
   "cell_type": "code",
   "execution_count": 32,
   "id": "ab1c1b97",
   "metadata": {},
   "outputs": [],
   "source": [
    "y = df['label']\n",
    "X= df['text']"
   ]
  },
  {
   "cell_type": "code",
   "execution_count": 33,
   "id": "7b4fe2b2",
   "metadata": {},
   "outputs": [],
   "source": [
    "X_train , X_test , Y_train , Y_test = train_test_split(X , y,test_size=0.2 ,stratify=df['label'], random_state= 0)"
   ]
  },
  {
   "cell_type": "code",
   "execution_count": 34,
   "id": "51cb05c8",
   "metadata": {},
   "outputs": [],
   "source": [
    "tf_vect=TfidfVectorizer(analyzer='char',ngram_range=(1,7))"
   ]
  },
  {
   "cell_type": "code",
   "execution_count": 35,
   "id": "fb028d6c",
   "metadata": {},
   "outputs": [],
   "source": [
    "tfidf_vectorizer_vectors=tf_vect.fit_transform(X_train)"
   ]
  },
  {
   "cell_type": "code",
   "execution_count": 42,
   "id": "94486614",
   "metadata": {},
   "outputs": [
    {
     "name": "stdout",
     "output_type": "stream",
     "text": [
      "number of features:  11086742\n"
     ]
    }
   ],
   "source": [
    "print('number of features: ',tfidf_vectorizer_vectors.shape[1])"
   ]
  },
  {
   "cell_type": "code",
   "execution_count": 17,
   "id": "b9908d72",
   "metadata": {},
   "outputs": [],
   "source": [
    "pipe = Pipeline([('vectorizer', TfidfVectorizer(analyzer='char',ngram_range=(1,7))), ('linearsvc', LinearSVC())])"
   ]
  },
  {
   "cell_type": "code",
   "execution_count": 18,
   "id": "259ebb53",
   "metadata": {},
   "outputs": [
    {
     "data": {
      "text/plain": [
       "Pipeline(steps=[('vectorizer',\n",
       "                 TfidfVectorizer(analyzer='char', ngram_range=(1, 7))),\n",
       "                ('linearsvc', LinearSVC())])"
      ]
     },
     "execution_count": 18,
     "metadata": {},
     "output_type": "execute_result"
    }
   ],
   "source": [
    "pipe.fit(X_train,Y_train)"
   ]
  },
  {
   "cell_type": "code",
   "execution_count": 19,
   "id": "d385c214",
   "metadata": {},
   "outputs": [
    {
     "name": "stdout",
     "output_type": "stream",
     "text": [
      "0.5666412047140986\n"
     ]
    }
   ],
   "source": [
    "print(pipe.score(X_test,Y_test))"
   ]
  },
  {
   "cell_type": "code",
   "execution_count": 20,
   "id": "c86b7cb1",
   "metadata": {},
   "outputs": [],
   "source": [
    "Y_predict=pipe.predict(X_test)"
   ]
  },
  {
   "cell_type": "code",
   "execution_count": 21,
   "id": "788b8128",
   "metadata": {},
   "outputs": [
    {
     "name": "stdout",
     "output_type": "stream",
     "text": [
      "              precision    recall  f1-score   support\n",
      "\n",
      "          IQ       0.46      0.44      0.45      5259\n",
      "          LY       0.42      0.34      0.38      5258\n",
      "          QA       0.65      0.55      0.60      3237\n",
      "          PL       0.70      0.88      0.78     11527\n",
      "          SY       0.66      0.56      0.61      3099\n",
      "          TN       0.45      0.36      0.40      5584\n",
      "          JO       0.50      0.63      0.56      8422\n",
      "          MA       0.63      0.71      0.67      5524\n",
      "          SA       0.66      0.71      0.69      7300\n",
      "          YE       0.80      0.62      0.70      2308\n",
      "          DZ       0.48      0.38      0.43      3823\n",
      "          EG       0.51      0.58      0.54      8749\n",
      "          LB       0.50      0.52      0.51      6214\n",
      "          KW       0.45      0.48      0.46      5367\n",
      "          OM       0.75      0.59      0.66      2887\n",
      "          SD       0.51      0.32      0.39      3248\n",
      "          AE       0.72      0.46      0.57      1849\n",
      "          BH       0.45      0.19      0.27      1985\n",
      "\n",
      "    accuracy                           0.57     91640\n",
      "   macro avg       0.57      0.52      0.54     91640\n",
      "weighted avg       0.56      0.57      0.56     91640\n",
      "\n"
     ]
    }
   ],
   "source": [
    "print(classification_report(Y_test , Y_predict ,target_names=df['label'].unique()))"
   ]
  },
  {
   "cell_type": "code",
   "execution_count": null,
   "id": "7632b375",
   "metadata": {},
   "outputs": [],
   "source": [
    "pickle.dump(pipe, open('linearsvcmodel.pkl', 'wb'))"
   ]
  },
  {
   "cell_type": "code",
   "execution_count": null,
   "id": "1be3fc53",
   "metadata": {},
   "outputs": [],
   "source": []
  },
  {
   "cell_type": "markdown",
   "id": "1d05eb3f",
   "metadata": {},
   "source": [
    "# LSTM Model"
   ]
  },
  {
   "cell_type": "code",
   "execution_count": 7,
   "id": "476e52de",
   "metadata": {},
   "outputs": [],
   "source": [
    "# t = Tokenizer()\n",
    "# t.fit_on_texts(X_train)"
   ]
  },
  {
   "cell_type": "code",
   "execution_count": null,
   "id": "b629590f",
   "metadata": {},
   "outputs": [],
   "source": [
    "# pickle.dump(t, open('tokenizer.pkl', 'wb'))"
   ]
  },
  {
   "cell_type": "code",
   "execution_count": 22,
   "id": "5a6fb14c",
   "metadata": {},
   "outputs": [],
   "source": [
    "t=pickle.load(open('tokenizer.pkl', 'rb'))"
   ]
  },
  {
   "cell_type": "code",
   "execution_count": 23,
   "id": "8049a189",
   "metadata": {},
   "outputs": [
    {
     "data": {
      "text/plain": [
       "378172"
      ]
     },
     "execution_count": 23,
     "metadata": {},
     "output_type": "execute_result"
    }
   ],
   "source": [
    "vocab_size = len(t.word_index) + 1\n",
    "vocab_size"
   ]
  },
  {
   "cell_type": "code",
   "execution_count": 24,
   "id": "e8824826",
   "metadata": {},
   "outputs": [],
   "source": [
    "# integer encode the documents\n",
    "encoded_X_train = t.texts_to_sequences(X_train)\n",
    "encoded_X_test = t.texts_to_sequences(X_test)"
   ]
  },
  {
   "cell_type": "code",
   "execution_count": 25,
   "id": "2202295c",
   "metadata": {},
   "outputs": [
    {
     "name": "stdout",
     "output_type": "stream",
     "text": [
      "280\n"
     ]
    }
   ],
   "source": [
    "max_len=0\n",
    "for i in X_train:\n",
    "    max_len=max(len(i),max_len)\n",
    "print(max_len)"
   ]
  },
  {
   "cell_type": "code",
   "execution_count": 26,
   "id": "d22626fb",
   "metadata": {},
   "outputs": [],
   "source": [
    "# pad documents to a max length of 4 words\n",
    "padded_X_train = pad_sequences(encoded_X_train, maxlen=max_len, padding='post')\n",
    "padded_X_test = pad_sequences(encoded_X_test, maxlen=max_len, padding='post')"
   ]
  },
  {
   "cell_type": "code",
   "execution_count": 27,
   "id": "1875ce22",
   "metadata": {},
   "outputs": [
    {
     "data": {
      "text/plain": [
       "366557"
      ]
     },
     "execution_count": 27,
     "metadata": {},
     "output_type": "execute_result"
    }
   ],
   "source": [
    "len(padded_X_train)"
   ]
  },
  {
   "cell_type": "code",
   "execution_count": 13,
   "id": "411ff6de",
   "metadata": {},
   "outputs": [
    {
     "name": "stdout",
     "output_type": "stream",
     "text": [
      "Loaded 1476715 word vectors.\n"
     ]
    }
   ],
   "source": [
    "# load the whole embedding into memory\n",
    "w2v_embeddings_index={}\n",
    "TOTAL_EMBEDDING_DIM=300\n",
    "embeddings_file=\"D:/full_grams_cbow_300_twitter/full_grams_cbow_300_twitter.mdl\"\n",
    "w2v_model =KeyedVectors.load(embeddings_file)\n",
    "for word in w2v_model.wv.vocab:\n",
    "    w2v_embeddings_index[word] = w2v_model[word]\n",
    "print('Loaded %s word vectors.'% len(w2v_embeddings_index))"
   ]
  },
  {
   "cell_type": "code",
   "execution_count": 14,
   "id": "4096ee77",
   "metadata": {},
   "outputs": [
    {
     "name": "stdout",
     "output_type": "stream",
     "text": [
      "Embedding Matrix shape: (378172, 300)\n"
     ]
    }
   ],
   "source": [
    "# create a weight matrix for words in training docs\n",
    "embedding_matrix = np.zeros((vocab_size, TOTAL_EMBEDDING_DIM))\n",
    "for word, i in t.word_index.items():\n",
    "    embedding_vector = w2v_embeddings_index.get(word)\n",
    "    if embedding_vector is not None:\n",
    "        embedding_matrix[i] = embedding_vector\n",
    "print('Embedding Matrix shape:', embedding_matrix.shape)"
   ]
  },
  {
   "cell_type": "code",
   "execution_count": 33,
   "id": "797f2d0b",
   "metadata": {},
   "outputs": [],
   "source": [
    "mapping={'AE': 16,'BH': 17,'DZ': 10,'EG': 11,'IQ': 0,'JO': 6,'KW': 13,'LB': 12,'LY': 1,'MA': 7,'OM': 14,'PL': 3,\n",
    "         'QA': 2,'SA': 8,'SD': 15,'SY': 4,'TN': 5,'YE': 9}"
   ]
  },
  {
   "cell_type": "code",
   "execution_count": 16,
   "id": "db62f9e3",
   "metadata": {},
   "outputs": [],
   "source": [
    "Y_train = Y_train.apply(lambda x: mapping[x])\n",
    "Y_test = Y_test.apply(lambda x: mapping[x])"
   ]
  },
  {
   "cell_type": "code",
   "execution_count": 17,
   "id": "b60751fa",
   "metadata": {},
   "outputs": [],
   "source": [
    "Y_train=tf.keras.utils.to_categorical(Y_train, num_classes = 18)\n",
    "Y_test=tf.keras.utils.to_categorical(Y_test, num_classes = 18)"
   ]
  },
  {
   "cell_type": "code",
   "execution_count": 39,
   "id": "5661820a",
   "metadata": {},
   "outputs": [],
   "source": [
    "bilstm = tf.keras.Sequential([\n",
    "    tf.keras.layers.Embedding(vocab_size, TOTAL_EMBEDDING_DIM, weights=[embedding_matrix], input_length=max_len, trainable=False),\n",
    "    tf.keras.layers.Bidirectional(tf.keras.layers.LSTM(64)),\n",
    "    tf.keras.layers.Dense(64, activation='relu'),\n",
    "    tf.keras.layers.Dense(18, activation='softmax'),\n",
    "                             ])"
   ]
  },
  {
   "cell_type": "code",
   "execution_count": 40,
   "id": "acae2b82",
   "metadata": {},
   "outputs": [],
   "source": [
    "bilstm.compile(loss=tf.keras.losses.categorical_crossentropy,\n",
    "              optimizer=tf.keras.optimizers.Adam(),\n",
    "              metrics=['accuracy'])"
   ]
  },
  {
   "cell_type": "code",
   "execution_count": 41,
   "id": "ed8c90a9",
   "metadata": {},
   "outputs": [
    {
     "name": "stdout",
     "output_type": "stream",
     "text": [
      "Model: \"sequential_5\"\n",
      "_________________________________________________________________\n",
      " Layer (type)                Output Shape              Param #   \n",
      "=================================================================\n",
      " embedding_7 (Embedding)     (None, 280, 300)          113451600 \n",
      "                                                                 \n",
      " bidirectional_7 (Bidirectio  (None, 128)              186880    \n",
      " nal)                                                            \n",
      "                                                                 \n",
      " dense_14 (Dense)            (None, 64)                8256      \n",
      "                                                                 \n",
      " dense_15 (Dense)            (None, 18)                1170      \n",
      "                                                                 \n",
      "=================================================================\n",
      "Total params: 113,647,906\n",
      "Trainable params: 196,306\n",
      "Non-trainable params: 113,451,600\n",
      "_________________________________________________________________\n"
     ]
    }
   ],
   "source": [
    "bilstm.summary()"
   ]
  },
  {
   "cell_type": "code",
   "execution_count": 42,
   "id": "1a50c489",
   "metadata": {},
   "outputs": [
    {
     "name": "stdout",
     "output_type": "stream",
     "text": [
      "Epoch 1/5\n",
      "11455/11455 [==============================] - 1934s 169ms/step - loss: 1.7438 - accuracy: 0.4428\n",
      "Epoch 2/5\n",
      "11455/11455 [==============================] - 1756s 153ms/step - loss: 1.5980 - accuracy: 0.4908\n",
      "Epoch 3/5\n",
      "11455/11455 [==============================] - 1875s 164ms/step - loss: 1.5509 - accuracy: 0.5060\n",
      "Epoch 4/5\n",
      "11455/11455 [==============================] - 1965s 172ms/step - loss: 1.5188 - accuracy: 0.5158\n",
      "Epoch 5/5\n",
      "11455/11455 [==============================] - 2040s 178ms/step - loss: 1.4957 - accuracy: 0.5235\n"
     ]
    }
   ],
   "source": [
    "history = bilstm.fit(padded_X_train,\n",
    "                     Y_train,\n",
    "                     epochs = 5,\n",
    "                     verbose = 1)"
   ]
  },
  {
   "cell_type": "code",
   "execution_count": 43,
   "id": "711f9f8b",
   "metadata": {},
   "outputs": [],
   "source": [
    "bilstm.save('lstm_model.h5')"
   ]
  },
  {
   "cell_type": "code",
   "execution_count": 44,
   "id": "589f1046",
   "metadata": {},
   "outputs": [
    {
     "name": "stdout",
     "output_type": "stream",
     "text": [
      "2864/2864 [==============================] - 223s 77ms/step - loss: 1.6173 - accuracy: 0.4886\n"
     ]
    },
    {
     "data": {
      "text/plain": [
       "[1.6172754764556885, 0.48858577013015747]"
      ]
     },
     "execution_count": 44,
     "metadata": {},
     "output_type": "execute_result"
    }
   ],
   "source": [
    "history.model.evaluate(padded_X_test, Y_test)"
   ]
  },
  {
   "cell_type": "code",
   "execution_count": 52,
   "id": "29169d8d",
   "metadata": {},
   "outputs": [],
   "source": [
    "lstm_model = load_model('lstm_model.h5')\n",
    "tok = pickle.load(open('tokenizer.pkl', 'rb'))"
   ]
  },
  {
   "cell_type": "code",
   "execution_count": 29,
   "id": "6365f9c3",
   "metadata": {},
   "outputs": [],
   "source": [
    "X_test_lstm = tok.texts_to_sequences(X_test)\n",
    "X_test_lstm = pad_sequences(X_test_lstm, maxlen=280, padding='post')"
   ]
  },
  {
   "cell_type": "code",
   "execution_count": 30,
   "id": "8c80f16e",
   "metadata": {},
   "outputs": [],
   "source": [
    "Y_pred_lstm = lstm_model.predict(X_test_lstm)"
   ]
  },
  {
   "cell_type": "code",
   "execution_count": 31,
   "id": "f1f246e2",
   "metadata": {},
   "outputs": [],
   "source": [
    "Y_pred_lstm1=[np.argmax(i) for i in Y_pred_lstm]"
   ]
  },
  {
   "cell_type": "code",
   "execution_count": 34,
   "id": "acbf9e61",
   "metadata": {},
   "outputs": [],
   "source": [
    "for i in range(len(Y_pred_lstm1)):\n",
    "    for k, v in mapping.items():\n",
    "        if v == Y_pred_lstm1[i]:\n",
    "            Y_pred_lstm1[i] = k"
   ]
  },
  {
   "cell_type": "code",
   "execution_count": 35,
   "id": "f881c9c5",
   "metadata": {},
   "outputs": [],
   "source": [
    "Y_pred_lstm = pd.Series(Y_pred_lstm1)"
   ]
  },
  {
   "cell_type": "code",
   "execution_count": 36,
   "id": "001e5377",
   "metadata": {},
   "outputs": [
    {
     "name": "stdout",
     "output_type": "stream",
     "text": [
      "              precision    recall  f1-score   support\n",
      "\n",
      "          IQ       0.40      0.30      0.35      5259\n",
      "          LY       0.27      0.27      0.27      5258\n",
      "          QA       0.49      0.48      0.48      3237\n",
      "          PL       0.68      0.86      0.76     11527\n",
      "          SY       0.62      0.47      0.54      3099\n",
      "          TN       0.34      0.28      0.30      5584\n",
      "          JO       0.45      0.55      0.50      8422\n",
      "          MA       0.56      0.58      0.57      5524\n",
      "          SA       0.60      0.63      0.61      7300\n",
      "          YE       0.70      0.52      0.60      2308\n",
      "          DZ       0.31      0.31      0.31      3823\n",
      "          EG       0.42      0.56      0.48      8749\n",
      "          LB       0.50      0.31      0.38      6214\n",
      "          KW       0.33      0.48      0.39      5367\n",
      "          OM       0.69      0.52      0.59      2887\n",
      "          SD       0.43      0.24      0.31      3248\n",
      "          AE       0.63      0.32      0.42      1849\n",
      "          BH       0.44      0.13      0.21      1985\n",
      "\n",
      "    accuracy                           0.49     91640\n",
      "   macro avg       0.49      0.43      0.45     91640\n",
      "weighted avg       0.49      0.49      0.48     91640\n",
      "\n"
     ]
    }
   ],
   "source": [
    "print(classification_report(Y_test , Y_pred_lstm ,target_names=df['label'].unique()))"
   ]
  },
  {
   "cell_type": "code",
   "execution_count": null,
   "id": "ee574ae1",
   "metadata": {},
   "outputs": [],
   "source": []
  }
 ],
 "metadata": {
  "kernelspec": {
   "display_name": "Python 3 (ipykernel)",
   "language": "python",
   "name": "python3"
  },
  "language_info": {
   "codemirror_mode": {
    "name": "ipython",
    "version": 3
   },
   "file_extension": ".py",
   "mimetype": "text/x-python",
   "name": "python",
   "nbconvert_exporter": "python",
   "pygments_lexer": "ipython3",
   "version": "3.8.3"
  }
 },
 "nbformat": 4,
 "nbformat_minor": 5
}
